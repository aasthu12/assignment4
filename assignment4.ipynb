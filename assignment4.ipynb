{
 "cells": [
  {
   "cell_type": "code",
   "execution_count": null,
   "id": "8e3e4a1c",
   "metadata": {},
   "outputs": [],
   "source": [
    "'''q1.What exactly is []?\n",
    "a1. [] is an empty list as it does not contain any items.'''\n",
    "        \n",
    "        "
   ]
  },
  {
   "cell_type": "code",
   "execution_count": 2,
   "id": "e7773bac",
   "metadata": {},
   "outputs": [],
   "source": [
    "'''q2.In a list of values stored in a variable called spam,\n",
    "how would you assign the value \"hello\" as the\n",
    "third value? (Assume [2, 4, 6, 8, 10] are in spam.)\n",
    "'''\n",
    "spam=[2,4,6,8,10]\n",
    "spam[2]=\"hello\"\n"
   ]
  },
  {
   "cell_type": "code",
   "execution_count": 3,
   "id": "03ab5999",
   "metadata": {},
   "outputs": [
    {
     "data": {
      "text/plain": [
       "[2, 4, 'hello', 8, 10]"
      ]
     },
     "execution_count": 3,
     "metadata": {},
     "output_type": "execute_result"
    }
   ],
   "source": [
    "spam"
   ]
  },
  {
   "cell_type": "code",
   "execution_count": 11,
   "id": "06d6ae0a",
   "metadata": {},
   "outputs": [
    {
     "name": "stdout",
     "output_type": "stream",
     "text": [
      "d\n"
     ]
    }
   ],
   "source": [
    "##Let's pretend the spam includes the list ['a', 'b','c','d'] for the next three queries.\n",
    "\n",
    "'''q3.What is the value of spam[int(int('3' * 2) / 11)]?'''\n",
    "spam=['a','b','c','d']\n",
    "s=spam[int(int('3' * 2) / 11)]\n",
    "print(s)"
   ]
  },
  {
   "cell_type": "code",
   "execution_count": null,
   "id": "e82d9b08",
   "metadata": {},
   "outputs": [],
   "source": [
    "'''q4.What is the value of spam[-1]?\n",
    "a4. the  value of spam[-1] will be \"d\" '''\n"
   ]
  },
  {
   "cell_type": "code",
   "execution_count": 14,
   "id": "03e64fd2",
   "metadata": {},
   "outputs": [
    {
     "name": "stdout",
     "output_type": "stream",
     "text": [
      "['a', 'b']\n"
     ]
    }
   ],
   "source": [
    "'''q5.What is the value of spam[:2]?\n",
    "a5. the value of spam[:2]'''\n",
    "print (spam[:2])"
   ]
  },
  {
   "cell_type": "code",
   "execution_count": 15,
   "id": "220b4327",
   "metadata": {},
   "outputs": [],
   "source": [
    "bacon=[3.14, 'cat', 11, 'cat',True]\n",
    "\n",
    "        "
   ]
  },
  {
   "cell_type": "code",
   "execution_count": 16,
   "id": "b9043a6e",
   "metadata": {},
   "outputs": [
    {
     "data": {
      "text/plain": [
       "1"
      ]
     },
     "execution_count": 16,
     "metadata": {},
     "output_type": "execute_result"
    }
   ],
   "source": [
    "'''q6.What is the value of bacon.index('cat')?'''\n",
    "bacon.index('cat')"
   ]
  },
  {
   "cell_type": "code",
   "execution_count": 17,
   "id": "e79708d3",
   "metadata": {},
   "outputs": [
    {
     "name": "stdout",
     "output_type": "stream",
     "text": [
      "[3.14, 'cat', 11, 'cat', True, 99]\n"
     ]
    }
   ],
   "source": [
    "'''q7.How does bacon.append(99) change the look of the list value in bacon?'''\n",
    "bacon.append(99)\n",
    "print (bacon)"
   ]
  },
  {
   "cell_type": "code",
   "execution_count": 19,
   "id": "29a1c5e8",
   "metadata": {},
   "outputs": [
    {
     "name": "stdout",
     "output_type": "stream",
     "text": [
      "[3.14, 11, True, 99]\n"
     ]
    }
   ],
   "source": [
    "'''q8.How does bacon.remove(&#39;cat&#39;) change the look of the list in bacon?'''\n",
    "bacon.remove('cat')\n",
    "print(bacon)"
   ]
  },
  {
   "cell_type": "code",
   "execution_count": null,
   "id": "fcf44f73",
   "metadata": {},
   "outputs": [],
   "source": [
    "'''q9.What are the list concatenation and list replication operators?\n",
    "a9.\"+ is a list concatenation operator and \"*\" is a list replication operator.\n",
    "List concatenation helps in creating a new list which contains all the elements\n",
    "from the lists that have been concatenated. List replication will create a list\n",
    "which will contain all the elements from a list repeated the mentioned number\n",
    "of times. For eg-'''"
   ]
  },
  {
   "cell_type": "code",
   "execution_count": 23,
   "id": "4194a52c",
   "metadata": {},
   "outputs": [
    {
     "name": "stdout",
     "output_type": "stream",
     "text": [
      "[1, 2, 3, 4, 5, 6, 7, 8, 9, 10]\n",
      "[1, 2, 3, 4, 5, 1, 2, 3, 4, 5]\n",
      "[6, 7, 8, 9, 10, 6, 7, 8, 9, 10, 6, 7, 8, 9, 10]\n"
     ]
    }
   ],
   "source": [
    "list1=[1,2,3,4,5]\n",
    "list2=[6,7,8,9,10]\n",
    "l1=list1+list2\n",
    "print(l1)\n",
    "l2=list1*2\n",
    "print(l2)\n",
    "l3=list2*3\n",
    "print(l3)"
   ]
  },
  {
   "cell_type": "code",
   "execution_count": null,
   "id": "018fb6d4",
   "metadata": {},
   "outputs": [],
   "source": [
    "'''q10.What is difference between the list methods append() and insert()?\n",
    "a10. append() will add the given element at the end of the list whereas \n",
    "insert() will add the given element at the given index of the list. For eg-'''"
   ]
  },
  {
   "cell_type": "code",
   "execution_count": 24,
   "id": "d2bc5cf4",
   "metadata": {},
   "outputs": [
    {
     "name": "stdout",
     "output_type": "stream",
     "text": [
      "[1, 2, 3, 4, 5, 'append']\n",
      "[6, 7, 8, 'insert', 9, 10]\n"
     ]
    }
   ],
   "source": [
    "list1.append(\"append\")\n",
    "print (list1)\n",
    "list2.insert(3,\"insert\")\n",
    "print (list2)"
   ]
  },
  {
   "cell_type": "code",
   "execution_count": null,
   "id": "e12f9fda",
   "metadata": {},
   "outputs": [],
   "source": [
    "'''q11.What are the two methods for removing items from a list?\n",
    "a11. the two methods for removing items from a list are pop()and remove().\n",
    "pop() functions removes an element based on the index that is given whereas\n",
    "the remove() function will remove the given element from the list. For eg-'''"
   ]
  },
  {
   "cell_type": "code",
   "execution_count": 25,
   "id": "9639333f",
   "metadata": {},
   "outputs": [
    {
     "name": "stdout",
     "output_type": "stream",
     "text": [
      "[1, 2, 4, 5, 'append']\n"
     ]
    }
   ],
   "source": [
    "list1.pop(2)\n",
    "print(list1)"
   ]
  },
  {
   "cell_type": "code",
   "execution_count": 26,
   "id": "e5597b26",
   "metadata": {},
   "outputs": [
    {
     "name": "stdout",
     "output_type": "stream",
     "text": [
      "[1, 2, 4, 5]\n"
     ]
    }
   ],
   "source": [
    "list1.remove('append')\n",
    "print(list1)"
   ]
  },
  {
   "cell_type": "code",
   "execution_count": null,
   "id": "d527e4ac",
   "metadata": {},
   "outputs": [],
   "source": [
    "'''q12.Describe how list values and string values are identical.\n",
    "A12. list values share many common features\n",
    "a. len() works on both string and list values as the length of string is number\n",
    "of characters and length of list is the number of items.\n",
    "b. the characters in string and the items in list both have a certain index \n",
    "number to reference them.\n",
    "c. string values and list values both can be concatenated.\n",
    "d. both string and list are mutable.\n",
    "e. both string and list are iterable'''"
   ]
  },
  {
   "cell_type": "code",
   "execution_count": null,
   "id": "026fbb0c",
   "metadata": {},
   "outputs": [],
   "source": [
    "'''q13.What is the difference between tuples and lists?\n",
    "a13. the main difference between tuples and list is that tuples are immutable\n",
    "and lists are mutable values.'''"
   ]
  },
  {
   "cell_type": "code",
   "execution_count": 27,
   "id": "405009a4",
   "metadata": {},
   "outputs": [
    {
     "name": "stdout",
     "output_type": "stream",
     "text": [
      "42\n"
     ]
    }
   ],
   "source": [
    "'''q14.How do you type a tuple value that only contains the integer 42?'''\n",
    "tup1=(42)\n",
    "print(tup1)"
   ]
  },
  {
   "cell_type": "code",
   "execution_count": 30,
   "id": "2a6e7366",
   "metadata": {},
   "outputs": [
    {
     "name": "stdout",
     "output_type": "stream",
     "text": [
      "(6, 7, 8, 'insert', 9, 10)\n",
      "[6, 7, 8, 'insert', 9, 10]\n"
     ]
    }
   ],
   "source": [
    "'''q15.How do you get a list value's tuple form?\n",
    "How do you get a tuple value's list form?'''\n",
    "tup2=tuple(list2)\n",
    "print(tup2)\n",
    "lis2=list(tup2)\n",
    "print(lis2)"
   ]
  },
  {
   "cell_type": "code",
   "execution_count": null,
   "id": "2f86f878",
   "metadata": {},
   "outputs": [],
   "source": [
    "'''q16.Variables that \"contain\" list values are not necessarily lists themselves.\n",
    "Instead, what do they contain?\n",
    "a16. Variable that contain list values are not necessarily lists themselves\n",
    "rather they are a reference to the memory location where the list is stored.'''"
   ]
  },
  {
   "cell_type": "code",
   "execution_count": 32,
   "id": "d69a1ee7",
   "metadata": {},
   "outputs": [
    {
     "name": "stdout",
     "output_type": "stream",
     "text": [
      "[1, 2, 3, [4, 5, 6, 7]]\n",
      "[1, 2, 3, [4, 5, 6, 7]]\n",
      "[1, 2, 3, [4, 5, 6]]\n"
     ]
    }
   ],
   "source": [
    "'''q17.How do you distinguish between copy.copy() and copy.deepcopy()?\n",
    "a17. copy.copy() will create a copy of an object and if any changes are made to\n",
    "the original object, the changes will also reflect in the copied object.\n",
    "However copy.deepcopy() will create a completely independent copy of an object\n",
    "such that even if any changes are made to the original object, the copied object\n",
    "will not be altered.For eg-'''\n",
    "import copy\n",
    "original=[1,2,3,[4,5,6]]\n",
    "copied = copy.copy(original)\n",
    "original[3].append(7)\n",
    "print (copied)\n",
    "\n",
    "\n",
    "original1=[1,2,3,[4,5,6]]\n",
    "copied1=copy.deepcopy(original1)\n",
    "original1[3].append(7)\n",
    "print(original1)\n",
    "print(copied1)"
   ]
  },
  {
   "cell_type": "code",
   "execution_count": null,
   "id": "e31b7d40",
   "metadata": {},
   "outputs": [],
   "source": []
  }
 ],
 "metadata": {
  "kernelspec": {
   "display_name": "Python 3 (ipykernel)",
   "language": "python",
   "name": "python3"
  },
  "language_info": {
   "codemirror_mode": {
    "name": "ipython",
    "version": 3
   },
   "file_extension": ".py",
   "mimetype": "text/x-python",
   "name": "python",
   "nbconvert_exporter": "python",
   "pygments_lexer": "ipython3",
   "version": "3.10.9"
  }
 },
 "nbformat": 4,
 "nbformat_minor": 5
}
